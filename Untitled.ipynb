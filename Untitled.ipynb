{
 "cells": [
  {
   "cell_type": "markdown",
   "metadata": {},
   "source": [
    "* Evaluation du prix dans un modèle à une étape : *"
   ]
  },
  {
   "cell_type": "code",
   "execution_count": 61,
   "metadata": {},
   "outputs": [],
   "source": [
    "from math import exp\n",
    "import numpy as np"
   ]
  },
  {
   "cell_type": "code",
   "execution_count": 62,
   "metadata": {},
   "outputs": [],
   "source": [
    "class CRR():\n",
    "    def __init__(self,S0,u,d,K,r,T):\n",
    "        if u<=d :\n",
    "            print (\"error\")\n",
    "        else :\n",
    "            self.S0=S0 \n",
    "            self.u=u\n",
    "            self.d=d\n",
    "            self.K=K\n",
    "            self.r=r\n",
    "            self.T=T\n",
    "            [self.a,self.b]=self.uneEtape()\n",
    "            self.sigma=self.a*self.S0 + self.b\n",
    "        \n",
    "        \n",
    "    def uneEtape(self):\n",
    "        a= (self.S0*self.u -self.K) / (self.S0 *(self.u-self.d))\n",
    "        b= - (a *self.S0*self.d)*np.exp(- self.r*self.T)\n",
    "        return [a,b]\n",
    "    def infos(self):\n",
    "        prixAchat = self.a*self.S0\n",
    "        valeur1 = self.a*self.S0*self.u\n",
    "        valeur2 = self.a*self.S0*self.d\n",
    "        valeurEcheance=[valeur1,valeur2]\n",
    "        valeurP=self.S0*self.u - self.K\n",
    "        return (\"on trouve a = \",self.a ,\", b = \", self.b , \" et donc la valeur C0= sigma sera\" , self.sigma , \" donc le prix d'achat propose sera\", prixAchat ,\"et la valeur d'echance est soit\",valeurEcheance,\"donc dans le 1er cas il paeira \",valeurP,\"et il rembourse \",-self.b, \"avec des interets r=0,  et dans le 2eme cas il remboursera donc les \",- self.b,)\n",
    "              \n",
    "        "
   ]
  },
  {
   "cell_type": "code",
   "execution_count": 63,
   "metadata": {},
   "outputs": [
    {
     "name": "stdout",
     "output_type": "stream",
     "text": [
      "50.0\n"
     ]
    },
    {
     "data": {
      "text/plain": [
       "('on trouve a = ',\n",
       " 0.8333333333333334,\n",
       " ', b = ',\n",
       " -50.0,\n",
       " ' et donc la valeur C0= sigma sera',\n",
       " 50.0,\n",
       " \" donc le prix d'achat propose sera\",\n",
       " 100.0,\n",
       " \"et la valeur d'echance est soit\",\n",
       " [150.0, 50.0],\n",
       " 'donc dans le 1er cas il paeira ',\n",
       " 100.0,\n",
       " 'et il rembourse ',\n",
       " 50.0,\n",
       " 'avec des interets r=0,  et dans le 2eme cas il remboursera donc les ',\n",
       " 50.0)"
      ]
     },
     "execution_count": 63,
     "metadata": {},
     "output_type": "execute_result"
    }
   ],
   "source": [
    " \n",
    "z =CRR(120,1.5,0.5,80,0,1) \n",
    "z.uneEtape()\n",
    "print(z.sigma)\n",
    "z.infos()\n",
    "\n",
    "  "
   ]
  },
  {
   "cell_type": "code",
   "execution_count": null,
   "metadata": {},
   "outputs": [],
   "source": []
  }
 ],
 "metadata": {
  "kernelspec": {
   "display_name": "Python 3",
   "language": "python",
   "name": "python3"
  },
  "language_info": {
   "codemirror_mode": {
    "name": "ipython",
    "version": 3
   },
   "file_extension": ".py",
   "mimetype": "text/x-python",
   "name": "python",
   "nbconvert_exporter": "python",
   "pygments_lexer": "ipython3",
   "version": "3.7.0"
  }
 },
 "nbformat": 4,
 "nbformat_minor": 2
}
